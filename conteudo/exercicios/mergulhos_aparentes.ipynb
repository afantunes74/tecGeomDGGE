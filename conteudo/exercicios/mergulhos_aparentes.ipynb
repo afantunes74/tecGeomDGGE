{
 "cells": [
  {
   "cell_type": "markdown",
   "id": "d8f447d0-2294-42e5-97d2-5fba391e5b31",
   "metadata": {},
   "source": [
    "# Mergulhos Aparentes"
   ]
  },
  {
   "cell_type": "markdown",
   "id": "f0ebadd2-453f-4ddd-818c-d5eea025adb5",
   "metadata": {},
   "source": [
    "Os exercícios a seguir ilustram vários problemas que mimetizam situações reais envolvendo mergulhos aparentes. Antes de realizar os cálculos necessários, procure entender o problema e construir uma visualização mental dele. Para facilitar a resolução dos exercícios, desenhar em papel cada situação também pode ajudar na visualização do problema.\n",
    "\n",
    "1. O traço de uma camada de arenito, medido em um corte vertical de direção 350$^{\\circ}$Az, possui mergulho aparente de 30$^{\\circ}$S. Sabendo que a camada mergulha para 105$^{\\circ}$Az qual o valor do mergulho verdadeiro dessa camada?\n",
    "\n",
    "2. Uma camada de calcário possui atitude 65/305 (notação mergulho/sentido).\n",
    "    1. Quais os valores dos mergulhos aparentes dessas camadas em cortes verticais de direções 000$^{\\circ}$Az e 240$^{\\circ}$Az?\n",
    "    2. Quais as atitudes (nas notações direção/mergulho+sentido, regra da mão direita e mergulho/sentido) dessa camada?\n",
    "\n",
    "3. A parede vertical de uma mina possui direção 125$^{\\circ}$Az. Nela foi medido o mergulho aparente de 40$^{\\circ}$E de veios mineralizados. Sabendo que a direção dos veios é 080$^{\\circ}$Az, qual é o valor de seu mergulho verdadeiro?\n",
    "\n",
    "4. Na parede vertical de uma pedreira, o traço de uma camada de calcário possui mergulho aparente de 60$^{\\circ}$SW. No piso horizontal, constatou-se que a camada de calcário possui direção 175$^{\\circ}$Az. Sabendo que a parede da pedreira possui direção 055$^{\\circ}$Az, qual as atitudes (nas notações direção/mergulho+sentido, regra da mão direita e mergulho/sentido) dessa camada de calcário?\n",
    "\n",
    "5. Em uma mina de ouro foi aberta uma trincheira de direção geral 015$^{\\circ}$Az, para avaliar a eventual prospectividade de um enxame de veios de quartzo. Nas paredes da trincheira, os contatos dos veios de quartzo com as rochas encaixantes apresentam mergulho de 55$^{\\circ}$S. Regionalmente os veios de quartzo apresentam direção (medida na superfície horizontal do terreno) de 245$^{\\circ}$Az. De posse dessas informações pergunta-se:\n",
    "    1. Os mergulhos medidos dos contatos dos veios de quartzo com as encaixantes são verdadeiros ou aparentes?\n",
    "    2. Caso esses mergulhos sejam aparentes, qual o valor do mergulho verdadeiro dos contatos?\n",
    "\n",
    "6. Sabendo que os mergulhos aparentes de um contato entre duas camadas de rochas sedimentares são 15/235 e 40$^{\\circ}$SE medido em um corte vertical de direção 350$^{\\circ}$Az, determine a atitude do contato.\n",
    "\n",
    "7. O mapa da {numref}`Figura %s <mergulhos_aparentes_mapa>` exibe uma sequência de camadas sedimentares (identificadas pelas letras P a U), tabulares. A atitude dos contatos entre todas as camadas é igual a 084/22S (note os símbolos de atitudes de planos exibidos no mapa). Observe, ainda existência de três linhas de perfis (A-B, C-D e E-F). Assumindo que os perfis são cortes verticais, determine os respectivos valores dos mergulhos aparentes dos contatos ao longo dos perfis A-B, C-D e E-F.\n",
    "    ```{admonition} Nota\n",
    "    :class: note\n",
    "    Uma vez que os contatos apresentam mesma atitude, basta realizar os cálculos uma vez para cada perfil. Será necessário medir no mapa os azimutes dos perfis em relação ao norte.\n",
    "    ```\n",
    "    ```{figure} figuras/mergulhos_aparentes_mapa.png\n",
    "    :width: 720px\n",
    "    :name: mergulhos_aparentes_mapa\n",
    "\n",
    "    Mapa geológico para solução do exercício 7. Adaptado de {cite:p}`Bennison2013`.\n",
    "    ```"
   ]
  },
  {
   "cell_type": "code",
   "execution_count": null,
   "id": "d4faa57f-aea2-4373-b831-47e71657970f",
   "metadata": {},
   "outputs": [],
   "source": []
  }
 ],
 "metadata": {
  "kernelspec": {
   "display_name": "Python 3 (ipykernel)",
   "language": "python",
   "name": "python3"
  },
  "language_info": {
   "codemirror_mode": {
    "name": "ipython",
    "version": 3
   },
   "file_extension": ".py",
   "mimetype": "text/x-python",
   "name": "python",
   "nbconvert_exporter": "python",
   "pygments_lexer": "ipython3",
   "version": "3.9.16"
  }
 },
 "nbformat": 4,
 "nbformat_minor": 5
}
