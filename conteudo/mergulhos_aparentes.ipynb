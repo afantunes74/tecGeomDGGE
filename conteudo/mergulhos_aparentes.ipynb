{
 "cells": [
  {
   "cell_type": "markdown",
   "id": "8259a320-0f6c-41a5-b104-84b13d542a17",
   "metadata": {},
   "source": [
    "```{contents}\n",
    "```"
   ]
  },
  {
   "cell_type": "markdown",
   "id": "a8923c28-ba08-4dbe-bfae-5ae4fc0eef68",
   "metadata": {},
   "source": [
    "# Mergulhos Aparentes"
   ]
  },
  {
   "cell_type": "markdown",
   "id": "74f42612-c5bd-4fc4-aa8e-cf24274ecdc6",
   "metadata": {},
   "source": [
    "## Determinação do mergulho verdadeiro quando se conhece um mergulho aparente"
   ]
  },
  {
   "cell_type": "markdown",
   "id": "67a14cdd-c9ad-44a0-a621-8bffdf317c67",
   "metadata": {},
   "source": [
    "A determinação do mergulho verdadeiro de uma superfície geológica (um contato, por exemplo) dados o valor e sentido do mergulho aparente dessa superfície, medido em um corte vertical não perpendicular à direção da superfície geológica pode ser realizada de diversas formas. Aqui serão apresentadas duas:\n",
    "\n",
    "- A **solução analítica** faz uso de equações trigonométricas;\n",
    "- A **solução gráfica** lança mão de projeções (orto)gráficas;\n",
    "\n",
    "Independentemente de qual solução for empregaga, inicialmente é importante construir uma visão tridimensional do problema, lançando mão das informções dadas ({numref}`Figura %s <mergulho_aparente1>`a). Em seguida desenhe de forma esquemática a linha de direção da estrutura geológica (um contato, por exemplo), bem como o traço do corte no qual deve ser medido ou determinado o mergulho verdadeiro da estrutura. Lembre que essas duas linhas fazem um ângulo de 90$^{\\circ}$ entre si. Desenhe na mesma figura o traço do corte ou perfil no qual o mergulho aparente é observado, medido ou determinado. Essas três linhas deverão constituir as arestas de um triângulo retângulo, tal que o vértice que contém o ângulo reto seja formado entre a linha de direção e o corte do mergulho verdadeiro. Esse triângulo retângulo é horizontal. Nos demais vértices estarão localizados os ângulos $\\alpha$ e $\\beta$. Procure identificar corretamente esses ângulos na figura.\n",
    "\n",
    "```{admonition} Nota\n",
    ":class: note\n",
    "Esse desenho esquemático ajudará a visualizar em mapa de forma preliminar os dados do problema. Mesmo sendo esquemático, procure desenhar as três linhas de forma que estejam corretamente orientadas, ainda que aproximadamente, em relação ao norte verdadeiro.\n",
    "```\n",
    "\n",
    "```{admonition} Importante!\n",
    ":class: important\n",
    "**Lembre que o primeiro passo para solucionar um problema é entendê-lo!**\n",
    "```"
   ]
  },
  {
   "cell_type": "markdown",
   "id": "e5c56a01-382b-4ea1-81e0-f649ec42ccf7",
   "metadata": {},
   "source": [
    "### Solução analítica"
   ]
  },
  {
   "cell_type": "markdown",
   "id": "02a7f524-7086-448a-85c8-f4533a1ccc08",
   "metadata": {},
   "source": [
    "A relação entre o mergulho aparente ($\\delta'$) e o mergulho verdadeiro ($\\delta$) de uma superfície geológica depende da direção do corte vertical arbitrário (em que é medido $\\delta'$) que intercepta a superfície geológica, de forma que a razão entre $\\delta'$ e $\\delta$ é proporcional à obliquidade exiatente entre a seção em que o mergulho aparente e:\n",
    "\n",
    "- a seção em que o mergulho verdadeiro é medido;\n",
    "- ou o corte perpendicular à direção da superfície.\n",
    "\n",
    "Seja $\\alpha$ o ângulo horizontal formado entre a direção do corte em que foi medido $\\delta'$ e a linha de sentido de mergulho verdadeiro da superfície geológica. Assim, temos que:\n",
    "\n",
    "$$\n",
    "\\frac{\\tan{\\delta'}}{\\tan{\\delta}} = \\cos{\\alpha}\n",
    "$$\n",
    "\n",
    "Por outro lado, seja $\\beta$ o ângulo horizontal formado entre a direção do corte em que foi medido $\\delta'$ e o linha de direção da superfície geológica. Nesse caso, passamos a ter que:\n",
    "\n",
    "$$\n",
    "\\frac{\\tan{\\delta'}}{\\tan{\\delta}} = \\sin{\\beta}\n",
    "$$"
   ]
  },
  {
   "cell_type": "markdown",
   "id": "b153da82-5e80-4375-bdfc-e4ad67a03ef0",
   "metadata": {},
   "source": [
    "### Solução gráfica"
   ]
  },
  {
   "cell_type": "markdown",
   "id": "23f18d1c-0f38-4426-aac6-428f502699e7",
   "metadata": {},
   "source": [
    "Depois que estiver seguro dos dados e do que pede o problema, inicie a solução:\n",
    "\n",
    "1. Agora de **forma exata**, empregando as ferramentas apropriadas (esquadros, transferidor, compasso), desenhe em mapa a linha de direção e os traços dos cortes em que são identificados os mergulhos verdadeiro e aparente, de maneira que as três linhas correspondam às arestas do triângulo retângulo ({numref}`Figura %s <mergulho_aparente1>`b) conforme esquematizado inicialmente. Esses segmentos de reta devem estar devidamente orientados em relação ao norte verdadeiro. Uma vez mais, identifique e anote corretamente os ângulos $\\alpha$ e $\\beta$ nos vértices do triângulo. Para auxiliar no entendimento dos passos seguintes, chame o vértice com o ângulo $\\alpha$ de $\\rm{A}$, o vértice com o ângulo $\\beta$ de $\\rm{B}$ e o vértice com o ângulo reto de $\\rm{O}$ ({numref}`Figura %s <mergulho_aparente1>`b);\n",
    "\n",
    "```{admonition} Nota\n",
    ":class: note\n",
    "O segmento de reta $\\overline{\\rm{OB}}$ corresponde à linha de direção da superfície geológica. O segmento de reta $\\overline{\\rm{OA}}$ corresponde ao traço do corte vertical em que é medido (ou determinado) o mergulho verdadeiro, enquanto que o segmento de reta $\\overline{\\rm{AB}}$ representa o traço do corte vertical em que é medido (ou determinado) o mergulho aparente ({numref}`Figura %s <mergulho_aparente1>`b).\n",
    "```\n",
    "\n",
    "```{admonition} Importante!\n",
    ":class: important\n",
    "Os segmentos de reta $\\overline{\\rm{OA}}$ e $\\overline{\\rm{AB}}$ servirão de linhas de dobradura por meio das quais os respectivos cortes serão rebatidos para a horizontal ({numref}`Figura %s <mergulho_aparente1>`c), constituindo uma épura ({numref}`Figura %s <mergulho_aparente1>`d). Quando isso acontecer, os ângulos verticais $\\delta$ e $\\delta'$ passarão a ser medidos na horizontal.\n",
    "```\n",
    "\n",
    "2. Trace uma reta com ângullo $\\delta'$ em relação ao segmento de reta $\\overline{\\rm{AB}}$ e com origem no vértice $\\rm{A}$. Essa reta representa o traço da superfície (plano) geológica no corte vertical em que foi medido o mergulho aparente ({numref}`Figura %s <mergulho_aparente1>`d);\n",
    "    \n",
    "3. Pelo vértice $\\rm{B}$, trace uma nova reta perpendicular ao segmento $\\overline{\\rm{AB}}$ e que intercepte a reta traçada no passo 2. Chame o cruzamento dessas reta de $\\rm{P}$. O comprimento do segmento de reta $\\overline{\\rm{BP}}$ é igual a $\\rm{d}$ ({numref}`Figura %s <mergulho_aparente1>`d);\n",
    "\n",
    "4. Pelo vértice $\\rm{O}$, trace uma reta ortogonal ao segmento $\\overline{\\rm{OA}}$ e marque nele a distância $\\rm{d}$ determinada no passo 3. Chame esse ponto de $\\rm{Q}$ e trace um segmento de reta unindo os pontos $\\rm{A}$ e $\\rm{Q}$ ({numref}`Figura %s <mergulho_aparente1>`e);\n",
    "\n",
    "5. Pronto! O ângulo agudo formado entre os segmentos de reta $\\overline{\\rm{OA}}$ e $\\overline{\\rm{AQ}}$ é o mergulho verdadeiro da superfície geológica ({numref}`Figura %s <mergulho_aparente1>`e)."
   ]
  },
  {
   "cell_type": "markdown",
   "id": "551f8afe-bb30-4375-a4d0-c039571fbc8f",
   "metadata": {},
   "source": [
    "```{figure} figuras/mergulho_aparente1.png\n",
    ":width: 720px\n",
    ":name: mergulho_aparente1\n",
    "\n",
    "A determinação do valor do mergulho verdadeiro ($\\delta$) de uma superfície geológica pode ser solucionada pela utilização de projeções ortográficas. O primeiro passo para solução é entender o problema, passando pela contrução de uma visão tridimensional (a). Sempre que possível, procure construir mais de uma visão 3D, com diferentes visadas, a exemplo do exibido em (a). Em seguida, passe para a visão de mapa (b), de forma a projetar o piso do bloco diagrama no plano horizontal. Posicionar corretamente as retas relativas à linha de direção (segmento de reta $\\overline{\\rm{OB}}$), ao traço do corte em que pode ser medido o mergulho verdadeiro $\\delta$ ((segmento de reta $\\overline{\\rm{OA}}$)) e ao traço do corte em que é medido o meruglho aparente $\\delta'$ (segmento de reta $\\overline{\\rm{AB}}$) é essencial para resolução do problema. Os segmentos de reta $\\overline{\\rm{OA}}$ e $\\overline{\\rm{AB}}$ funcionam como linhas de dobradura (c) em torno das quais os cortes que contêm $\\delta$ e $\\delta'$ serão rebatidos para o plano horizontal, constituindo uma épura (d, e) dos blocos diagramas exibidos em (a). Adaptado de {cite:p}`Rowland2007`.\n",
    "```"
   ]
  },
  {
   "cell_type": "markdown",
   "id": "6d9ab1bc-f8c6-435b-9c54-716e813e0435",
   "metadata": {},
   "source": [
    "## Determinação do mergulho verdadeiro quando se conhecem dois mergulhos aparentes"
   ]
  },
  {
   "cell_type": "markdown",
   "id": "b9a86a8e-be0c-4934-85f3-818e2727cb39",
   "metadata": {},
   "source": [
    "Também é possível determinar o mergulho verdadeiro de uma superfície sendo conhecidos dois mergulhos aparentes dessa superfície, medidos em dois cortes verticais não paralelos. Uma vez mais, para facilitar a solução do problema e antes de utilizar o algoritmo seguinte, desenhe de forma esquemática as informações fornecidas, tal como nos problemas anteriores.\n",
    "\n",
    "Para a solução do problema, chamaremos arbitrariamente os mergulhos aparentes de $\\delta'_{1}$ e $\\delta'_{2}$, medidos, respectivamente nos cortes 1 e 2 ({numref}`Figura %s <mergulho_aparente2>`)."
   ]
  },
  {
   "cell_type": "markdown",
   "id": "ee25e9c3-2b52-4cda-8357-10110bf8b520",
   "metadata": {},
   "source": [
    "### Solução gráfica"
   ]
  },
  {
   "cell_type": "markdown",
   "id": "89feb2db-da6f-4ea3-9a9b-ce7915b019ae",
   "metadata": {},
   "source": [
    "1. Trace, em mapa e de forma devidamente orientada em relação ao norte verdadeiro, as retas horizontais que representam no terreno os traços dos cortes 1 e 2. Chame o ponto de interseção dessas retas de $\\rm{O}$ ({numref}`Figura %s <mergulho_aparente2>`b);\n",
    "\n",
    "2. Tendo-se os traços dos cortes 1 e 2 como referência e a partir do ponto $\\rm{O}$, desenhe duas novas retas com ângulos iguais a $\\delta'_{1}$ e $\\delta'_{2}$ em relação a seus respectivos traços ({numref}`Figura %s <mergulho_aparente2>`c). Essas novas retas correspondem aos traços da superfície (plano) geológica nos respectivos cortes verticais em que foram medidos os mergulhos aparentes;\n",
    "\n",
    "3. Escolha um dos cortes (corte 1, por exemplo) e trace, em uma posição arbitrária, uma reta perpendicular ao traço horizontal do corte e que intercepte a respectiva reta correspondente ao traço da superfície geológica no corte vertical. O comprimento dessa nova reta é igual a $\\rm{d}$. Chame sua extremidade de $\\rm{P}$ ({numref}`Figura %s <mergulho_aparente2>`d);\n",
    "\n",
    "4. No corte remanescente, trace de forma análoga e em uma posição asbitrária uma reta perpendicular ao traço horizontal do corte e que também intercepte a respectiva reta correspondente ao traço da superfície geológica nesse corte. Tenha certeza que essa reta tenha comprimento maior que $\\rm{d}$. A partir do traço horizontal do corte, marque a distância $\\rm{d}$. Projete essa distância, até que ela intercepte o traço inclinado da superfície geológica. Chame o ponto de interseção de $\\rm{Q}$ ({numref}`Figura %s <mergulho_aparente2>`d);\n",
    "\n",
    "5. A projeção dos pontos $\\rm{P}$ e $\\rm{Q}$ na superfície horizontal são, respectivamente, os pontos $\\rm{X}$ e $\\rm{Y}$. Trace uma reta unindo os pontos $\\rm{X}$ e $\\rm{Y}$ ({numref}`Figura %s <mergulho_aparente2>`e). Essa reta corresponde à linha de direção da superfície geológica.\n",
    "\n",
    "```{admonition} Nota\n",
    ":class: note\n",
    "Se desejar (ou se for necessário), meça o ângulo horário que essa linha perfaz com o norte verdadeiro. Esse ângulo corresonde ao azimute da linha de direção.\n",
    "```\n",
    "\n",
    "6. Passando pelo ponto $\\rm{O}$, trace uma reta perpencular à linha de direção (ou seja ao segmento de reta $\\overline{\\rm{XY}}$). Essa nova reta corresponde ao traço do corte em que será determinado o mergulho verdadeiro $\\delta$ da superfície gelógica. Para conveniência, chame a interseção da linha de direção com o corte em que será determinado o mergulho verdadeiro de $\\rm{R}$ ({numref}`Figura %s <mergulho_aparente2>`f);\n",
    "\n",
    "```{admonition} Importante!\n",
    ":class: important\n",
    "Lembre que o mergulho verdadeiro sempre é medido em um corte vertical perpendicular à direção da superfície geológica.\n",
    "```\n",
    "\n",
    "7. Ao longo da linha de direção e a partir do ponto $\\rm{R}$, marque a distância $\\rm{d}$ e identifique esse ponto como $\\rm{T}$ ({numref}`Figura %s <mergulho_aparente2>`f). Feito! O ângulo agudo formado entre os segmentos de reta $\\overline{\\rm{OT}}$ e $\\overline{\\rm{OR}}$ é o mergulho verdadeiro $\\delta$!"
   ]
  },
  {
   "cell_type": "markdown",
   "id": "132d13f0-619a-47d9-bf1b-97040ee80b46",
   "metadata": {},
   "source": [
    "```{figure} figuras/mergulho_aparente2.png\n",
    ":width: 720px\n",
    ":name: mergulho_aparente2\n",
    "\n",
    "Procedimento similar ode ser utilizado para se determinar o mergulho verdadeiro ($\\delta$) de uma superfície geológica dados dois mergulhos aparentes ($\\delta'_{1}$ e $\\delta'_{2}$) medidos em dois cortes não paralelos e oblíquos à direção da estrutura. Tal como no problema anterior, inicie construindo visualizações tridimensionais do problema, preferencialmente com mais de uma visada (a), em seguida passe para a construção 2D em mapa (b). Na projeção ortográfica, os mergulhos aparentes constituirão ângulos horizontais medidos a partir dos traços dos respectivos cortes em que foram medidos (c). As épuras são completas com a definição da distância $\\rm{d}$ em ambos os cortes (d) e o traçado da linha de direção da superfície geológica (e). Finalmente determina-se o mergulho verdadeiro com a marcação da distância $\\rm{d}$ ao longo da linha de direção (f). Adaptado de {cite:p}`Rowland2007`.\n",
    "```"
   ]
  },
  {
   "cell_type": "markdown",
   "id": "d8f447d0-2294-42e5-97d2-5fba391e5b31",
   "metadata": {},
   "source": [
    "## Exercícios"
   ]
  },
  {
   "cell_type": "markdown",
   "id": "f0ebadd2-453f-4ddd-818c-d5eea025adb5",
   "metadata": {},
   "source": [
    "Os exercícios a seguir ilustram vários problemas que mimetizam situações reais envolvendo mergulhos aparentes. Antes de realizar os cálculos necessários, procure entender o problema e construir uma visualização mental dele. Para facilitar a resolução dos exercícios, desenhar em papel cada situação também pode ajudar na visualização do problema.\n",
    "\n",
    "1. O traço de uma camada de arenito, medido em um corte vertical de direção 350$^{\\circ}$Az, possui mergulho aparente de 30$^{\\circ}$S. Sabendo que a camada mergulha para 105$^{\\circ}$Az qual o valor do mergulho verdadeiro dessa camada?\n",
    "\n",
    "2. Uma camada de calcário possui atitude 65/305 (notação mergulho/sentido).\n",
    "    1. Quais os valores dos mergulhos aparentes dessas camadas em cortes verticais de direções 000$^{\\circ}$Az e 240$^{\\circ}$Az?\n",
    "    2. Quais as atitudes (nas notações direção/mergulho+sentido, regra da mão direita e mergulho/sentido) dessa camada?\n",
    "\n",
    "3. A parede vertical de uma mina possui direção 125$^{\\circ}$Az. Nela foi medido o mergulho aparente de 40$^{\\circ}$E de veios mineralizados. Sabendo que a direção dos veios é 080$^{\\circ}$Az, qual é o valor de seu mergulho verdadeiro?\n",
    "\n",
    "4. Na parede vertical de uma pedreira, o traço de uma camada de calcário possui mergulho aparente de 60$^{\\circ}$SW. No piso horizontal, constatou-se que a camada de calcário possui direção 175$^{\\circ}$Az. Sabendo que a parede da pedreira possui direção 055$^{\\circ}$Az, qual as atitudes (nas notações direção/mergulho+sentido, regra da mão direita e mergulho/sentido) dessa camada de calcário?\n",
    "\n",
    "5. Em uma mina de ouro foi aberta uma trincheira de direção geral 015$^{\\circ}$Az, para avaliar a eventual prospectividade de um enxame de veios de quartzo. Nas paredes da trincheira, os contatos dos veios de quartzo com as rochas encaixantes apresentam mergulho de 55$^{\\circ}$S. Regionalmente os veios de quartzo apresentam direção (medida na superfície horizontal do terreno) de 245$^{\\circ}$Az. De posse dessas informações pergunta-se:\n",
    "    1. Os mergulhos medidos dos contatos dos veios de quartzo com as encaixantes são verdadeiros ou aparentes?\n",
    "    2. Caso esses mergulhos sejam aparentes, qual o valor do mergulho verdadeiro dos contatos?\n",
    "\n",
    "6. Sabendo que os mergulhos aparentes de um contato entre duas camadas de rochas sedimentares são 15/235 e 40$^{\\circ}$SE medido em um corte vertical de direção 350$^{\\circ}$Az, determine a atitude do contato.\n",
    "\n",
    "7. O mapa da {numref}`Figura %s <mapa_exercicio>` exibe uma sequência de camadas sedimentares (identificadas pelas letras P a U), tabulares. A atitude dos contatos entre todas as camadas é igual a 084/22S (note os símbolos de atitudes de planos exibidos no mapa). Observe, ainda existência de três linhas de perfis (A-B, C-D e E-F). Assumindo que os perfis são cortes verticais, determine os respectivos valores dos mergulhos aparentes dos contatos ao longo dos perfis A-B, C-D e E-F.\n",
    "    ```{admonition} Nota\n",
    "    :class: note\n",
    "    Uma vez que os contatos apresentam mesma atitude, basta realizar os cálculos uma vez para cada perfil. Será necessário medir no mapa os azimutes dos perfis em relação ao norte.\n",
    "    ```\n",
    "    ```{figure} figuras/mapa_exercicio.png\n",
    "    :width: 720px\n",
    "    :name: mapa_exercicio\n",
    "\n",
    "    Mapa geológico para solução do exercício 7. Adaptado de {cite:p}`Bennison2011`.\n",
    "    ```"
   ]
  },
  {
   "cell_type": "raw",
   "id": "72d98e03-dc36-4e5c-ba53-b279b2a743f4",
   "metadata": {
    "jp-MarkdownHeadingCollapsed": true,
    "tags": []
   },
   "source": [
    "## Referências\n",
    "```{bibliography}\n",
    ":filter: docname in docnames\n",
    ":style: plain\n",
    "```"
   ]
  },
  {
   "cell_type": "code",
   "execution_count": null,
   "id": "33ded7a9-e791-484e-9e43-12f57f53ce10",
   "metadata": {},
   "outputs": [],
   "source": []
  }
 ],
 "metadata": {
  "kernelspec": {
   "display_name": "Python 3 (ipykernel)",
   "language": "python",
   "name": "python3"
  },
  "language_info": {
   "codemirror_mode": {
    "name": "ipython",
    "version": 3
   },
   "file_extension": ".py",
   "mimetype": "text/x-python",
   "name": "python",
   "nbconvert_exporter": "python",
   "pygments_lexer": "ipython3",
   "version": "3.9.16"
  }
 },
 "nbformat": 4,
 "nbformat_minor": 5
}
