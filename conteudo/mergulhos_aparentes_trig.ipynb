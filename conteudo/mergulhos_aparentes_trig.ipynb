{
 "cells": [
  {
   "cell_type": "markdown",
   "id": "8259a320-0f6c-41a5-b104-84b13d542a17",
   "metadata": {},
   "source": [
    "```{contents}\n",
    "```"
   ]
  },
  {
   "cell_type": "markdown",
   "id": "a8923c28-ba08-4dbe-bfae-5ae4fc0eef68",
   "metadata": {},
   "source": [
    "# Mergulhos Aparentes"
   ]
  },
  {
   "cell_type": "markdown",
   "id": "02a7f524-7086-448a-85c8-f4533a1ccc08",
   "metadata": {},
   "source": [
    "A relação entre o mergulho aparente ($\\delta'$) e o mergulho verdadeiro ($\\delta$) de uma superfície geológica depende da direção do corte vertical arbitrário (em que é medido $\\delta'$) que intercepta a superfície geológica, de forma que a razão entre $\\delta'$ e $\\delta$ é proporcional à obliquidade exiatente entre a seção em que o mergulho aparente e:\n",
    "\n",
    "- a seção em que o mergulho verdadeiro é medido;\n",
    "- ou o corte perpendicular à direção da superfície.\n",
    "\n",
    "Seja $\\alpha$ o ângulo horizontal formado entre a direção do corte em que foi medido $\\delta'$ e a linha de sentido de mergulho verdadeiro da superfície geológica. Assim, temos que:\n",
    "\n",
    "$$\n",
    "\\frac{\\tan{\\delta'}}{\\tan{\\delta}} = \\cos{\\alpha}\n",
    "$$\n",
    "\n",
    "Por outro lado, seja $\\beta$ o ângulo horizontal formado entre a direção do corte em que foi medido $\\delta'$ e o linha de direção da superfície geológica. Nesse caso, passamos a ter que:\n",
    "\n",
    "$$\n",
    "\\frac{\\tan{\\delta'}}{\\tan{\\delta}} = \\sin{\\beta}\n",
    "$$"
   ]
  }
 ],
 "metadata": {
  "kernelspec": {
   "display_name": "Python 3 (ipykernel)",
   "language": "python",
   "name": "python3"
  },
  "language_info": {
   "codemirror_mode": {
    "name": "ipython",
    "version": 3
   },
   "file_extension": ".py",
   "mimetype": "text/x-python",
   "name": "python",
   "nbconvert_exporter": "python",
   "pygments_lexer": "ipython3",
   "version": "3.9.16"
  }
 },
 "nbformat": 4,
 "nbformat_minor": 5
}
